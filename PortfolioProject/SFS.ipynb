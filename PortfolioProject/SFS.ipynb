{
 "cells": [
  {
   "cell_type": "code",
   "execution_count": 4,
   "metadata": {},
   "outputs": [
    {
     "name": "stderr",
     "output_type": "stream",
     "text": [
      "[Parallel(n_jobs=1)]: Using backend SequentialBackend with 1 concurrent workers.\n",
      "[Parallel(n_jobs=1)]: Done   1 out of   1 | elapsed:    0.0s remaining:    0.0s\n",
      "[Parallel(n_jobs=1)]: Done  14 out of  14 | elapsed:    0.0s finished\n",
      "\n",
      "[2023-09-10 23:22:39] Features: 1/5 -- score: 0.8147448015122873[Parallel(n_jobs=1)]: Using backend SequentialBackend with 1 concurrent workers.\n",
      "[Parallel(n_jobs=1)]: Done   1 out of   1 | elapsed:    0.0s remaining:    0.0s\n",
      "[Parallel(n_jobs=1)]: Done  13 out of  13 | elapsed:    0.0s finished\n",
      "\n",
      "[2023-09-10 23:22:40] Features: 2/5 -- score: 0.8147448015122873[Parallel(n_jobs=1)]: Using backend SequentialBackend with 1 concurrent workers.\n",
      "[Parallel(n_jobs=1)]: Done   1 out of   1 | elapsed:    0.0s remaining:    0.0s\n",
      "[Parallel(n_jobs=1)]: Done  12 out of  12 | elapsed:    0.1s finished\n",
      "\n",
      "[2023-09-10 23:22:40] Features: 3/5 -- score: 0.8147448015122873[Parallel(n_jobs=1)]: Using backend SequentialBackend with 1 concurrent workers.\n",
      "[Parallel(n_jobs=1)]: Done   1 out of   1 | elapsed:    0.0s remaining:    0.0s\n",
      "[Parallel(n_jobs=1)]: Done  11 out of  11 | elapsed:    0.1s finished\n",
      "\n",
      "[2023-09-10 23:22:40] Features: 4/5 -- score: 0.8147448015122873[Parallel(n_jobs=1)]: Using backend SequentialBackend with 1 concurrent workers.\n",
      "[Parallel(n_jobs=1)]: Done   1 out of   1 | elapsed:    0.0s remaining:    0.0s\n",
      "[Parallel(n_jobs=1)]: Done  10 out of  10 | elapsed:    0.1s finished\n",
      "\n",
      "[2023-09-10 23:22:40] Features: 5/5 -- score: 0.8185255198487713"
     ]
    },
    {
     "data": {
      "text/plain": [
       "('ApplicantIncome',\n",
       " 'CoapplicantIncome',\n",
       " 'LoanAmount',\n",
       " 'Credit_History',\n",
       " 'Property_Area_Urban')"
      ]
     },
     "execution_count": 4,
     "metadata": {},
     "output_type": "execute_result"
    }
   ],
   "source": [
    "import pandas as pd\n",
    "from sklearn.model_selection import train_test_split\n",
    "from sklearn.preprocessing import MinMaxScaler \n",
    "from mlxtend.feature_selection import SequentialFeatureSelector as SFS \n",
    "from sklearn.linear_model import LogisticRegression \n",
    "\n",
    "#Import Data\n",
    "hl = pd.read_excel('modified.xlsx')\n",
    "\n",
    "#Drop unnecessay column \n",
    "hl = hl.drop(columns=(['Unnamed: 0']), axis =1)\n",
    "\n",
    "#Seperate features into categorical and numerical\n",
    "categorical_features = ['Gender', 'Married', 'Dependents', 'Education', 'Self_Employed', 'Property_Area','Credit_History','Loan_Amount_Term']\n",
    "\n",
    "numerical_features =  ['ApplicantIncome', 'CoapplicantIncome', 'LoanAmount']\n",
    "\n",
    "#Convert categorical features into indicator variables(0 or 1)\n",
    "home_encoded = pd.get_dummies(hl, drop_first=True)\n",
    "\n",
    "#Drop all null values from data set\n",
    "home_encoded = home_encoded.dropna()\n",
    "\n",
    "#Save modified data set to new excel spread sheet\n",
    "home_encoded.to_excel(\"SFS.xlsx\")\n",
    "\n",
    "#Setting X to all descriptive features except Loan_Status_Y\n",
    "X = home_encoded.drop(columns= 'Loan_Status_Y')\n",
    "\n",
    "#Setting y to Target Feature\n",
    "y = home_encoded['Loan_Status_Y']\n",
    "\n",
    "#Splitting Dataset into Test and Train\n",
    "X_train,X_test,y_train,y_test = train_test_split(X,y,test_size=0.20,stratify =y,random_state =1)\n",
    "\n",
    "#Instantiating function to Transform features by scaling each featur into a given range\n",
    "scaler = MinMaxScaler() \n",
    "X_train = scaler.fit_transform(X_train) \n",
    "X_test = scaler.transform(X_test)\n",
    "\n",
    "#Adds featurs to form a feature subset in a greedy fashion\n",
    "sfs = SFS(LogisticRegression(solver='lbfgs', max_iter=300),\n",
    "          k_features=5, \n",
    "          forward=True, \n",
    "          floating = False, \n",
    "          verbose=2,\n",
    "          scoring = 'accuracy', \n",
    "          cv = 0)\n",
    "\n",
    "sfs.fit(X, y) \n",
    "sfs.k_feature_names_\n"
   ]
  }
 ],
 "metadata": {
  "kernelspec": {
   "display_name": "myenv",
   "language": "python",
   "name": "python3"
  },
  "language_info": {
   "codemirror_mode": {
    "name": "ipython",
    "version": 3
   },
   "file_extension": ".py",
   "mimetype": "text/x-python",
   "name": "python",
   "nbconvert_exporter": "python",
   "pygments_lexer": "ipython3",
   "version": "3.10.12"
  },
  "orig_nbformat": 4
 },
 "nbformat": 4,
 "nbformat_minor": 2
}
