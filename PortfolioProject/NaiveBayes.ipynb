{
 "cells": [
  {
   "cell_type": "code",
   "execution_count": 1,
   "metadata": {},
   "outputs": [
    {
     "name": "stdout",
     "output_type": "stream",
     "text": [
      "              precision    recall  f1-score   support\n",
      "\n",
      "           0       0.93      0.45      0.60        29\n",
      "           1       0.83      0.99      0.90        77\n",
      "\n",
      "    accuracy                           0.84       106\n",
      "   macro avg       0.88      0.72      0.75       106\n",
      "weighted avg       0.85      0.84      0.82       106\n",
      "\n"
     ]
    }
   ],
   "source": [
    "#Import packages\n",
    "import pandas as pd\n",
    "from sklearn.preprocessing import StandardScaler\n",
    "from sklearn.model_selection import train_test_split\n",
    "from sklearn.naive_bayes import GaussianNB\n",
    "from sklearn.metrics import classification_report\n",
    "\n",
    "\n",
    "#Import cleaned data\n",
    "nb = pd.read_excel(\"Modified.xlsx\")\n",
    "\n",
    "#Drop unnecessary Column\n",
    "nb = nb.drop(columns=([\"Unnamed: 0\"]), axis=1)\n",
    "\n",
    "#Setting X to all descriptive features except Loan_Status_Y\n",
    "X = nb.drop(columns = 'Loan_Status_Y')\n",
    "\n",
    "#Setting y to Target Feature\n",
    "y = nb['Loan_Status_Y']\n",
    "\n",
    "#Standardize features by removing the mean and scaling to unit variance\n",
    "sc = StandardScaler()\n",
    "\n",
    "#Fit data and transform \n",
    "X = sc.fit_transform(X)\n",
    "\n",
    "#Splitting Dataset into Test and Train\n",
    "X_train, x_test, y_train, y_test = train_test_split(X,y,test_size  = 0.2, random_state=1)\n",
    "\n",
    "#Instantiate the model\n",
    "gNB = GaussianNB()\n",
    "\n",
    "#fit model using the training data\n",
    "gNB.fit(X_train,y_train)\n",
    "\n",
    "#Use model to make prediction on test data\n",
    "pred_gNB = gNB.predict(x_test)\n",
    "\n",
    "#Print Classification Report for model \n",
    "print(classification_report(y_test, pred_gNB ))\n",
    "\n",
    "\n",
    "\n"
   ]
  }
 ],
 "metadata": {
  "kernelspec": {
   "display_name": "myenv",
   "language": "python",
   "name": "python3"
  },
  "language_info": {
   "codemirror_mode": {
    "name": "ipython",
    "version": 3
   },
   "file_extension": ".py",
   "mimetype": "text/x-python",
   "name": "python",
   "nbconvert_exporter": "python",
   "pygments_lexer": "ipython3",
   "version": "3.10.12"
  },
  "orig_nbformat": 4
 },
 "nbformat": 4,
 "nbformat_minor": 2
}
